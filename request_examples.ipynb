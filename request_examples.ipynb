{
 "cells": [
  {
   "cell_type": "code",
   "execution_count": 3,
   "metadata": {},
   "outputs": [
    {
     "name": "stdout",
     "output_type": "stream",
     "text": [
      "{'survival_probability': '0.97'}\n"
     ]
    }
   ],
   "source": [
    "import requests\n",
    "\n",
    "url = \"http://127.0.0.1:8000/predict_survival/\"\n",
    "passenger_data = {\n",
    "    \"Pclass\": 1,\n",
    "    \"Sex\": \"female\",\n",
    "    \"Age\": 29,\n",
    "    \"SibSp\": 0,\n",
    "    \"Parch\": 0,\n",
    "    \"Fare\": 211.3375,\n",
    "    \"Embarked\": \"C\"\n",
    "}\n",
    "\n",
    "response = requests.post(url, json=passenger_data)\n",
    "print(response.json())"
   ]
  },
  {
   "cell_type": "code",
   "execution_count": 4,
   "metadata": {},
   "outputs": [
    {
     "name": "stdout",
     "output_type": "stream",
     "text": [
      "{'id': 400, 'Pclass': None, 'Sex': None, 'Age': None, 'SibSp': None, 'Parch': None, 'Fare': None, 'Embarked': None}\n"
     ]
    }
   ],
   "source": [
    "import requests\n",
    "\n",
    "passenger_id = 400  # Замените на ID пассажира, которого хотите получить\n",
    "url = f\"http://127.0.0.1:8000/passenger/{passenger_id}\"\n",
    "\n",
    "response = requests.get(url)\n",
    "if response.status_code == 200:\n",
    "    print(response.json())\n",
    "else:\n",
    "    print(f\"Error: {response.status_code} - {response.text}\")"
   ]
  },
  {
   "cell_type": "code",
   "execution_count": 6,
   "metadata": {},
   "outputs": [
    {
     "name": "stdout",
     "output_type": "stream",
     "text": [
      "{'message': 'Passenger added successfully'}\n"
     ]
    }
   ],
   "source": [
    "import requests\n",
    "\n",
    "url = \"http://127.0.0.1:8000/add_passenger/\"\n",
    "new_passenger = {\n",
    "    \"Pclass\": 3,\n",
    "    \"Sex\": \"male\",\n",
    "    \"Age\": 22,\n",
    "    \"SibSp\": 1,\n",
    "    \"Parch\": 0,\n",
    "    \"Fare\": 7.25,\n",
    "    \"Embarked\": \"S\"\n",
    "}\n",
    "\n",
    "response = requests.post(url, json=new_passenger)\n",
    "print(response.json())"
   ]
  },
  {
   "cell_type": "code",
   "execution_count": 8,
   "metadata": {},
   "outputs": [
    {
     "name": "stdout",
     "output_type": "stream",
     "text": [
      "Error: 404 - {\"detail\":\"Passenger not found\"}\n"
     ]
    }
   ],
   "source": [
    "import requests\n",
    "\n",
    "passenger_id = 0  # Замените на ID пассажира, которого хотите удалить\n",
    "url = f\"http://127.0.0.1:8000/delete_passenger/{passenger_id}\"\n",
    "\n",
    "response = requests.delete(url)\n",
    "if response.status_code == 200:\n",
    "    print(response.json())\n",
    "else:\n",
    "    print(f\"Error: {response.status_code} - {response.text}\")"
   ]
  }
 ],
 "metadata": {
  "kernelspec": {
   "display_name": ".venv",
   "language": "python",
   "name": "python3"
  },
  "language_info": {
   "codemirror_mode": {
    "name": "ipython",
    "version": 3
   },
   "file_extension": ".py",
   "mimetype": "text/x-python",
   "name": "python",
   "nbconvert_exporter": "python",
   "pygments_lexer": "ipython3",
   "version": "3.12.5"
  }
 },
 "nbformat": 4,
 "nbformat_minor": 2
}
